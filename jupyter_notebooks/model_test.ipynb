{
 "cells": [
  {
   "cell_type": "code",
   "execution_count": 1,
   "id": "14ecec9f",
   "metadata": {},
   "outputs": [],
   "source": [
    "import matplotlib.pyplot as plt\n",
    "import numpy as np\n",
    "import os, random\n",
    "import PIL\n",
    "import tensorflow as tf\n",
    "\n",
    "from sklearn.metrics import confusion_matrix\n",
    "from tensorflow import keras\n",
    "from tensorflow.keras import layers\n",
    "from tensorflow.keras.models import Sequential"
   ]
  },
  {
   "cell_type": "code",
   "execution_count": 2,
   "id": "51e20d99",
   "metadata": {},
   "outputs": [
    {
     "name": "stdout",
     "output_type": "stream",
     "text": [
      "Bachelorarbeit-root: /Users/carinastiedl/Documents/Hochschule/Bachelorarbeit\n"
     ]
    }
   ],
   "source": [
    "# set root path\n",
    "root_path = os.path.abspath('../..')\n",
    "print(\"Bachelorarbeit-root:\", root_path)\n",
    "\n",
    "test_data_path = f'{root_path}/masks_dataset/test'\n",
    "model_save_path = f'{root_path}/src/jupyter/best_model.h5'"
   ]
  },
  {
   "cell_type": "code",
   "execution_count": 3,
   "id": "65deef66",
   "metadata": {},
   "outputs": [],
   "source": [
    "# parameters\n",
    "image_size = (180, 180)"
   ]
  },
  {
   "cell_type": "code",
   "execution_count": 4,
   "id": "4d9860ef",
   "metadata": {
    "scrolled": true
   },
   "outputs": [
    {
     "name": "stderr",
     "output_type": "stream",
     "text": [
      "2022-08-11 16:58:18.952540: I tensorflow/core/platform/cpu_feature_guard.cc:151] This TensorFlow binary is optimized with oneAPI Deep Neural Network Library (oneDNN) to use the following CPU instructions in performance-critical operations:  AVX2 FMA\n",
      "To enable them in other operations, rebuild TensorFlow with the appropriate compiler flags.\n"
     ]
    }
   ],
   "source": [
    "# load model\n",
    "model = keras.models.load_model(model_save_path)"
   ]
  },
  {
   "cell_type": "code",
   "execution_count": 5,
   "id": "f14c651b",
   "metadata": {},
   "outputs": [
    {
     "name": "stdout",
     "output_type": "stream",
     "text": [
      "Found 100 files belonging to 2 classes.\n"
     ]
    }
   ],
   "source": [
    "test_ds: tf.data.Dataset = keras.preprocessing.image_dataset_from_directory(\n",
    "    test_data_path,\n",
    "    image_size=image_size,\n",
    "    batch_size=None,\n",
    ")"
   ]
  },
  {
   "cell_type": "code",
   "execution_count": 6,
   "id": "303e2dc4",
   "metadata": {},
   "outputs": [
    {
     "name": "stdout",
     "output_type": "stream",
     "text": [
      "['mask', 'no_mask']\n"
     ]
    }
   ],
   "source": [
    "class_names = test_ds.class_names\n",
    "print(class_names)"
   ]
  },
  {
   "cell_type": "code",
   "execution_count": 7,
   "id": "52f39cb0",
   "metadata": {},
   "outputs": [],
   "source": [
    "expected = []\n",
    "predicted = []\n",
    "scores = []\n",
    "for image, label in test_ds:\n",
    "    img_array = tf.expand_dims(image.numpy(), 0)  # Create batch axis\n",
    "    predictions = model.predict(img_array)\n",
    "    score = tf.nn.softmax(predictions[0]) # [mask, no_mask]\n",
    "    predicted_index = np.argmax(score) # get index of highest probability\n",
    "    \n",
    "    #print(\"Label:\", class_names[int(label)])\n",
    "    #print(\"Score:\", class_names[np.argmax(score)])\n",
    "    #print(score[1].numpy())\n",
    "    expected.append(int(label)) \n",
    "    predicted.append(predicted_index)\n",
    "    scores.append(score[1].numpy())\n",
    "    "
   ]
  },
  {
   "cell_type": "code",
   "execution_count": 8,
   "id": "dbb662e8",
   "metadata": {},
   "outputs": [
    {
     "data": {
      "text/plain": [
       "0.87"
      ]
     },
     "execution_count": 8,
     "metadata": {},
     "output_type": "execute_result"
    }
   ],
   "source": [
    "# Accuracy\n",
    "import sklearn\n",
    "sklearn.metrics.accuracy_score(expected, predicted)"
   ]
  },
  {
   "cell_type": "code",
   "execution_count": 9,
   "id": "f608c9f9",
   "metadata": {},
   "outputs": [
    {
     "name": "stdout",
     "output_type": "stream",
     "text": [
      "tn: 43, fp: 7, fn: 6, tp: 44\n"
     ]
    }
   ],
   "source": [
    "tn, fp, fn, tp = confusion_matrix(expected, predicted).ravel()\n",
    "print(f\"tn: {tn}, fp: {fp}, fn: {fn}, tp: {tp}\")\n"
   ]
  },
  {
   "cell_type": "code",
   "execution_count": 15,
   "id": "3427e5fa",
   "metadata": {},
   "outputs": [
    {
     "data": {
      "image/png": "[encoded data removed]",
      "text/plain": [
       "<Figure size 432x288 with 2 Axes>"
      ]
     },
     "metadata": {
      "needs_background": "light"
     },
     "output_type": "display_data"
    }
   ],
   "source": [
    "# Confusion Matrix\n",
    "from sklearn.metrics import ConfusionMatrixDisplay\n",
    "\n",
    "ConfusionMatrixDisplay.from_predictions(expected, predicted)\n",
    "plt.savefig('ConfusionMatrix.png')\n",
    "plt.show()"
   ]
  },
  {
   "cell_type": "code",
   "execution_count": 11,
   "id": "d7b59ab8",
   "metadata": {},
   "outputs": [
    {
     "name": "stdout",
     "output_type": "stream",
     "text": [
      "              precision    recall  f1-score   support\n",
      "\n",
      "           0       0.88      0.86      0.87        50\n",
      "           1       0.86      0.88      0.87        50\n",
      "\n",
      "    accuracy                           0.87       100\n",
      "   macro avg       0.87      0.87      0.87       100\n",
      "weighted avg       0.87      0.87      0.87       100\n",
      "\n"
     ]
    }
   ],
   "source": [
    "from sklearn.metrics import classification_report\n",
    "\n",
    "print(classification_report(expected, predicted))\n"
   ]
  },
  {
   "cell_type": "code",
   "execution_count": 12,
   "id": "1a73103c",
   "metadata": {},
   "outputs": [
    {
     "data": {
      "image/png": "[encoded data removed]",
      "text/plain": [
       "<Figure size 432x288 with 1 Axes>"
      ]
     },
     "metadata": {
      "needs_background": "light"
     },
     "output_type": "display_data"
    }
   ],
   "source": [
    "# ROC curve\n",
    "from sklearn.metrics import roc_curve, roc_auc_score\n",
    "false_positive_rate, true_positive_rate, threshold = roc_curve(expected, scores)\n",
    "#true_positive_rate = tp/(tp+fn)\n",
    "#false_positive_rate = fp/(fp+tn)\n",
    "\n",
    "plt.plot()\n",
    "\n",
    "plt.title('Receiver Operating Characteristic')\n",
    "plt.plot([0, 0], [1, 0] , c=\".7\", label=\"Perfect\"), plt.plot([1, 1] , c=\".7\", label='_nolegend_')\n",
    "plt.plot(false_positive_rate, true_positive_rate, label=\"Model\")\n",
    "plt.plot([0, 1], ls=\"--\", label=\"Random\")\n",
    "plt.ylabel('True Positive Rate')\n",
    "plt.xlabel('False Positive Rate')\n",
    "plt.legend()\n",
    "plt.savefig('ROC_curve.jpg')\n",
    "plt.show()"
   ]
  },
  {
   "cell_type": "code",
   "execution_count": 13,
   "id": "ebcdc390",
   "metadata": {},
   "outputs": [
    {
     "name": "stdout",
     "output_type": "stream",
     "text": [
      "AUC=0.94960\n"
     ]
    }
   ],
   "source": [
    "# Area Under Curve\n",
    "import sklearn.metrics as metrics\n",
    "from sklearn.metrics import roc_auc_score\n",
    "auc = metrics.roc_auc_score(expected, scores)\n",
    "print('AUC=%.5f' % (auc))"
   ]
  }
 ],
 "metadata": {
  "kernelspec": {
   "display_name": "Python 3 (ipykernel)",
   "language": "python",
   "name": "python3"
  },
  "language_info": {
   "codemirror_mode": {
    "name": "ipython",
    "version": 3
   },
   "file_extension": ".py",
   "mimetype": "text/x-python",
   "name": "python",
   "nbconvert_exporter": "python",
   "pygments_lexer": "ipython3",
   "version": "3.8.5"
  }
 },
 "nbformat": 4,
 "nbformat_minor": 5
}
